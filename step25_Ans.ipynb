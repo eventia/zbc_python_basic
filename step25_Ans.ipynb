{
  "nbformat": 4,
  "nbformat_minor": 0,
  "metadata": {
    "colab": {
      "name": "step25-Ans.ipynb",
      "version": "0.3.2",
      "provenance": [],
      "collapsed_sections": [],
      "include_colab_link": true
    },
    "kernelspec": {
      "name": "python3",
      "display_name": "Python 3"
    }
  },
  "cells": [
    {
      "cell_type": "markdown",
      "metadata": {
        "id": "view-in-github",
        "colab_type": "text"
      },
      "source": [
        "<a href=\"https://colab.research.google.com/github/eventia/zbc_python_basic/blob/master/step25_Ans.ipynb\" target=\"_parent\"><img src=\"https://colab.research.google.com/assets/colab-badge.svg\" alt=\"Open In Colab\"/></a>"
      ]
    },
    {
      "metadata": {
        "id": "dPDAfIdG9Kbk",
        "colab_type": "text"
      },
      "cell_type": "markdown",
      "source": [
        "## STEP25. 물건 개수와 가격 계산 코드 짜기 / API 로 가져온 가격 활용하기\n"
      ]
    },
    {
      "metadata": {
        "id": "qipFjz-RV6gS",
        "colab_type": "code",
        "colab": {
          "base_uri": "https://localhost:8080/",
          "height": 53
        },
        "outputId": "b8fdd817-83e2-4823-d70b-7f6c93daa4df"
      },
      "cell_type": "code",
      "source": [
        "# Q-1. 물건과 갯수를 전달받아 가격을 계산해주는 프로그램을 짜봅시다. 물건과 단가는 다음과 같습니다.\n",
        "#      사과   1000원\n",
        "#      바나나  500원\n",
        "#      우유   1500원\n",
        "#\n",
        "# \"사과 3\" 이라고 입력하면 1000*3 인 3000이 출력되는 프로그램을 짜보세요.\n",
        "# split() 을 사용합니다.\n",
        "\n",
        "# 여기에 코드를 넣으세요.\n",
        "\n",
        "# objInfo = input(\"물건과 갯수를 입력하세요: \").split()\n",
        "name, num = input(\"물건과 갯수를 입력하세요: \").split()\n",
        "\n",
        "\n",
        "#if objInfo[0]==\"사과\":\n",
        "#  price = 1000\n",
        "#elif objInfo[0]==\"바나나\":\n",
        "#  price = 500\n",
        "#else:\n",
        "#  price = 1500\n",
        "\n",
        "if name ==\"사과\":\n",
        "  price = 1000\n",
        "elif name ==\"바나나\":\n",
        "  price = 500\n",
        "else:\n",
        "  price = 1500\n",
        "\n",
        "\n",
        "print(price*int(num))\n"
      ],
      "execution_count": 10,
      "outputs": [
        {
          "output_type": "stream",
          "text": [
            "물건과 갯수를 입력하세요: 사과 5\n",
            "5000\n"
          ],
          "name": "stdout"
        }
      ]
    },
    {
      "metadata": {
        "id": "rC1HHUiBXHXU",
        "colab_type": "code",
        "colab": {
          "base_uri": "https://localhost:8080/",
          "height": 35
        },
        "outputId": "24b7a6d2-b5e5-4a0b-9716-32592bbff89a"
      },
      "cell_type": "code",
      "source": [
        "# Q-2. \n",
        "# \n",
        "# btc 딕셔너리 안에는 시가, 종가, 최고가, 최저가 등이 저장되어 있다. \n",
        "# 최고가와 최저가의 차이를 변동폭으로 정의할 때 (시가 + 변동폭)이 \n",
        "# 최고가 보다 높을 경우 \"상승장\", 그렇지 않은 경우 \"하락장\" 문자열을 출력하라.\n",
        "# \n",
        "# ==================================================\n",
        "# Key Name\tDescription\n",
        "# --------------------------------------------------\n",
        "# opening_price\t    시가:   24시간 내 시작 거래금액\n",
        "# closing_price\t    종가:   24시간 내 마감 거래금액\n",
        "# min_price\t        최저가: 24시간 내 최저 거래금액\n",
        "# max_price\t        최고가: 24시간 내 최고 거래금액\n",
        "# ==================================================\n",
        "\n",
        "import requests\n",
        "btc = requests.get(\"https://api.bithumb.com/public/ticker/\").json()['data']\n",
        "# print(btc)\n",
        "\n",
        "differencePrice = int(btc['max_price']) - int(btc['min_price'])\n",
        "if int(btc['opening_price']) + differencePrice > int(btc['max_price']) :\n",
        "    print(\"상승장\")\n",
        "else :\n",
        "    print(\"하락장\")\n",
        "\n"
      ],
      "execution_count": 21,
      "outputs": [
        {
          "output_type": "stream",
          "text": [
            "상승장\n"
          ],
          "name": "stdout"
        }
      ]
    }
  ]
}