{
  "nbformat": 4,
  "nbformat_minor": 0,
  "metadata": {
    "colab": {
      "name": "step25-Ans.ipynb",
      "version": "0.3.2",
      "provenance": [],
      "collapsed_sections": [],
      "include_colab_link": true
    },
    "kernelspec": {
      "name": "python3",
      "display_name": "Python 3"
    }
  },
  "cells": [
    {
      "cell_type": "markdown",
      "metadata": {
        "id": "view-in-github",
        "colab_type": "text"
      },
      "source": [
        "<a href=\"https://colab.research.google.com/github/eventia/zbc_python_basic/blob/master/step25_Ans.ipynb\" target=\"_parent\"><img src=\"https://colab.research.google.com/assets/colab-badge.svg\" alt=\"Open In Colab\"/></a>"
      ]
    },
    {
      "metadata": {
        "id": "dPDAfIdG9Kbk",
        "colab_type": "text"
      },
      "cell_type": "markdown",
      "source": [
        "## STEP25. 물건 개수와 가격 계산 코드 짜기"
      ]
    },
    {
      "metadata": {
        "id": "qipFjz-RV6gS",
        "colab_type": "code",
        "colab": {
          "base_uri": "https://localhost:8080/",
          "height": 53
        },
        "outputId": "b8fdd817-83e2-4823-d70b-7f6c93daa4df"
      },
      "cell_type": "code",
      "source": [
        "# Q-1. 물건과 갯수를 전달받아 가격을 계산해주는 프로그램을 짜봅시다. 물건과 단가는 다음과 같습니다.\n",
        "#      사과   1000원\n",
        "#      바나나  500원\n",
        "#      우유   1500원\n",
        "#\n",
        "# \"사과 3\" 이라고 입력하면 1000*3 인 3000이 출력되는 프로그램을 짜보세요.\n",
        "# split() 을 사용합니다.\n",
        "\n",
        "# 여기에 코드를 넣으세요.\n",
        "\n",
        "# objInfo = input(\"물건과 갯수를 입력하세요: \").split()\n",
        "name, num = input(\"물건과 갯수를 입력하세요: \").split()\n",
        "\n",
        "\n",
        "#if objInfo[0]==\"사과\":\n",
        "#  price = 1000\n",
        "#elif objInfo[0]==\"바나나\":\n",
        "#  price = 500\n",
        "#else:\n",
        "#  price = 1500\n",
        "\n",
        "if name ==\"사과\":\n",
        "  price = 1000\n",
        "elif name ==\"바나나\":\n",
        "  price = 500\n",
        "else:\n",
        "  price = 1500\n",
        "\n",
        "\n",
        "print(price*int(num))\n"
      ],
      "execution_count": 10,
      "outputs": [
        {
          "output_type": "stream",
          "text": [
            "물건과 갯수를 입력하세요: 사과 5\n",
            "5000\n"
          ],
          "name": "stdout"
        }
      ]
    },
    {
      "metadata": {
        "id": "rC1HHUiBXHXU",
        "colab_type": "code",
        "colab": {}
      },
      "cell_type": "code",
      "source": [
        "# Q-2. input() 함수로 하나의 숫자를 입력받아서 홀수와 짝수를 구별하여 출력하는 코드를 작성하세요.\n",
        "# input() 함수를 사용합니다. \n",
        "# \"숫자를 입력하세요 :\" 라는 문구가 출력된 후 수를 입력받습니다.\n",
        "\n",
        "\n",
        "# 여기에 코드를 넣으세요. \n",
        "num = int(input(\"숫자를 입력하세요:\"))\n",
        "if num%2 == 0:\n",
        "  print(\"짝수입니다\")\n",
        "else :\n",
        "  print(\"홀수입니다\")"
      ],
      "execution_count": 0,
      "outputs": []
    },
    {
      "metadata": {
        "id": "6WTiWGvYXyLj",
        "colab_type": "code",
        "colab": {}
      },
      "cell_type": "code",
      "source": [
        "# Q-3. 숫자를 입력받은 후 20을 더한 값을 출력하세요. 단, 최소는 0 최대는 100 입니다. \n",
        "# 즉, 100 이상의 값은 100 으로 출력합니다. \n",
        "# input() 함수를 사용합니다. \n",
        "# \"숫자를 입력하세요 :\" 라는 문구가 출력된 후 수를 입력받습니다.\n",
        "\n",
        "\n",
        "# 여기에 코드를 넣으세요.\n",
        "num = int(input(\"숫자를 입력하세요:\"))\n",
        "if num+20 >= 100:\n",
        "  print(100)\n",
        "else :\n",
        "  print(num+20)"
      ],
      "execution_count": 0,
      "outputs": []
    },
    {
      "metadata": {
        "id": "-wPSPIv_Xz_G",
        "colab_type": "code",
        "colab": {}
      },
      "cell_type": "code",
      "source": [
        "# Q-4. 현재 시간을 입력받아, 24:00 까지 남은 시간을 분단위로 표시하세요.\n",
        "#     - 23:30 을 입력했으면 30분을 표시\n",
        "#     - 22:00 을 입력했으면 120분을 표시\n",
        "# 시간은 hh:mm 형태로 입력받습니다. 00 부터 23시까지 시간을 표시하고,\n",
        "# 분은 0 분부터 59분까지 표시됩니다. \n",
        "# input() 함수를 사용합니다. \n",
        "# \"현재 시간을 입력하세요 :\" 라는 문구가 출력된 후 시간을 입력받습니다.\n",
        "# (P.S. 아직 에러처리는 신경쓰지 마세요.)\n",
        "# \"24:00까지 ### 분 남았습니다\" 를 출력합니다.\n",
        "\n",
        "# 여기에 코드를 넣으세요.\n",
        "myTime = input(\"현재 시간을 입력하세요:\")\n",
        "\n",
        "userHour = int(myTime[0:2])\n",
        "userMin = int(myTime[3:])\n",
        "timeGap = (24-userHour)*60 - userMin\n",
        "\n",
        "print(\"24:00 까지 {}분 남았습니다\".format(timeGap))"
      ],
      "execution_count": 0,
      "outputs": []
    },
    {
      "metadata": {
        "id": "iSgkSYcmX0Em",
        "colab_type": "code",
        "colab": {}
      },
      "cell_type": "code",
      "source": [
        "# Q-5. 위 4번 코드를 수정해서 22:00 에서 06:00 사이에는 \"지금은 수면시간입니다\"를 출력하도록 코드를 수정해보세요. \n",
        "\n",
        "# 여기에 코드를 넣으세요.\n",
        "myTime = input(\"현재 시간을 입력하세요:\")\n",
        "\n",
        "userHour = int(myTime[0:2])\n",
        "userMin = int(myTime[3:])\n",
        "timeGap = (24-userHour)*60 - userMin\n",
        "\n",
        "print(\"24:00 까지 {}분 남았습니다\".format(timeGap))\n",
        "\n",
        "if (timeGap <= 120) or (timeGap >= 18*60):\n",
        "  print(\"지금은 수면시간입니다.\")\n",
        "\n"
      ],
      "execution_count": 0,
      "outputs": []
    }
  ]
}